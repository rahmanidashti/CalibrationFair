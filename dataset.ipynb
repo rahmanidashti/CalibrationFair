{
 "cells": [
  {
   "cell_type": "code",
   "execution_count": 1,
   "metadata": {},
   "outputs": [],
   "source": [
    "# importing required pakcages\n",
    "import pandas as pd\n",
    "from tqdm import tqdm"
   ]
  },
  {
   "cell_type": "code",
   "execution_count": 2,
   "metadata": {},
   "outputs": [],
   "source": [
    "# config\n",
    "data_config = 'Yelp'\n",
    "config = {\n",
    "    'Yelp':\n",
    "    {\n",
    "        'ds_name': 'Yelp',\n",
    "        'ds_fmt': 'txt',\n",
    "        'ds_rate': 10,\n",
    "        'ds_toprate': 200,\n",
    "        'ds_sep': ',',\n",
    "    }\n",
    "}"
   ]
  },
  {
   "cell_type": "code",
   "execution_count": 3,
   "metadata": {},
   "outputs": [],
   "source": [
    "# loading dataset\n",
    "dataset = pd.read_csv(f\"datasets/{data_config}/raw/{data_config}_data_map.{config[data_config]['ds_fmt']}\", sep=f\"{config[data_config]['ds_sep']}\", names=['UserID', 'ItemID', 'Rating'])"
   ]
  },
  {
   "cell_type": "code",
   "execution_count": 4,
   "metadata": {},
   "outputs": [
    {
     "data": {
      "text/html": [
       "<div>\n",
       "<style scoped>\n",
       "    .dataframe tbody tr th:only-of-type {\n",
       "        vertical-align: middle;\n",
       "    }\n",
       "\n",
       "    .dataframe tbody tr th {\n",
       "        vertical-align: top;\n",
       "    }\n",
       "\n",
       "    .dataframe thead th {\n",
       "        text-align: right;\n",
       "    }\n",
       "</style>\n",
       "<table border=\"1\" class=\"dataframe\">\n",
       "  <thead>\n",
       "    <tr style=\"text-align: right;\">\n",
       "      <th></th>\n",
       "      <th>UserID</th>\n",
       "      <th>ItemID</th>\n",
       "      <th>Rating</th>\n",
       "    </tr>\n",
       "  </thead>\n",
       "  <tbody>\n",
       "    <tr>\n",
       "      <th>0</th>\n",
       "      <td>0</td>\n",
       "      <td>0</td>\n",
       "      <td>1</td>\n",
       "    </tr>\n",
       "    <tr>\n",
       "      <th>1</th>\n",
       "      <td>0</td>\n",
       "      <td>1</td>\n",
       "      <td>1</td>\n",
       "    </tr>\n",
       "    <tr>\n",
       "      <th>2</th>\n",
       "      <td>0</td>\n",
       "      <td>2</td>\n",
       "      <td>1</td>\n",
       "    </tr>\n",
       "    <tr>\n",
       "      <th>3</th>\n",
       "      <td>0</td>\n",
       "      <td>3</td>\n",
       "      <td>1</td>\n",
       "    </tr>\n",
       "    <tr>\n",
       "      <th>4</th>\n",
       "      <td>0</td>\n",
       "      <td>4</td>\n",
       "      <td>1</td>\n",
       "    </tr>\n",
       "  </tbody>\n",
       "</table>\n",
       "</div>"
      ],
      "text/plain": [
       "   UserID  ItemID  Rating\n",
       "0       0       0       1\n",
       "1       0       1       1\n",
       "2       0       2       1\n",
       "3       0       3       1\n",
       "4       0       4       1"
      ]
     },
     "execution_count": 4,
     "metadata": {},
     "output_type": "execute_result"
    }
   ],
   "source": [
    "dataset.head()"
   ]
  },
  {
   "cell_type": "code",
   "execution_count": 5,
   "metadata": {},
   "outputs": [
    {
     "data": {
      "text/plain": [
       "Index(['UserID', 'ItemID', 'Rating'], dtype='object')"
      ]
     },
     "execution_count": 5,
     "metadata": {},
     "output_type": "execute_result"
    }
   ],
   "source": [
    "# what columns or attributes the dataset is included?\n",
    "dataset.columns"
   ]
  },
  {
   "cell_type": "code",
   "execution_count": 6,
   "metadata": {},
   "outputs": [
    {
     "name": "stdout",
     "output_type": "stream",
     "text": [
      "Original dataset statistics: \n",
      "> No. of users: 7135\n",
      "> No. of Items: 16621\n",
      "> No. of Interaction: 285608\n"
     ]
    }
   ],
   "source": [
    "# statistics on explicit dataset\n",
    "print(\"Original dataset statistics: \")\n",
    "print(f\"> No. of users: {len(dataset['UserID'].unique())}\")\n",
    "print(f\"> No. of Items: {len(dataset['ItemID'].unique())}\")\n",
    "print(f\"> No. of Interaction: {dataset.shape[0]}\")"
   ]
  },
  {
   "cell_type": "code",
   "execution_count": 7,
   "metadata": {},
   "outputs": [
    {
     "data": {
      "text/plain": [
       "1     271772\n",
       "2      12139\n",
       "3       1319\n",
       "4        265\n",
       "5         67\n",
       "6         19\n",
       "7         12\n",
       "8          8\n",
       "10         2\n",
       "9          2\n",
       "19         1\n",
       "18         1\n",
       "14         1\n",
       "Name: Rating, dtype: int64"
      ]
     },
     "execution_count": 7,
     "metadata": {},
     "output_type": "execute_result"
    }
   ],
   "source": [
    "# checking the number of times in which a rating happened - (0: implicit, 1-10: explicit)\n",
    "dataset['Rating'].value_counts()"
   ]
  },
  {
   "cell_type": "code",
   "execution_count": 8,
   "metadata": {},
   "outputs": [],
   "source": [
    "# This method return a dataframe in which the specified values are removed from a specific column. We can use it to generate the implicit/explicit dataset.\n",
    "# To do this, we can remove the 0 or 1-10 values from the `Book-Rating` column.\n",
    "def filter_rows_by_values(df, col, values):\n",
    "    return df[~df[col].isin(values)]"
   ]
  },
  {
   "cell_type": "code",
   "execution_count": 9,
   "metadata": {},
   "outputs": [],
   "source": [
    "# To create the explicit dataset, we first remove those rows which includes 0 on Book-Rating columns (implicit ones), then we save the new generated daaset.\n",
    "if data_config == 'ClothingFit':\n",
    "    dataset = filter_rows_by_values(dataset, \"Rating\", [0])\n",
    "\n",
    "    print(dataset['Rating'].value_counts())\n",
    "\n",
    "    # statistics on explicit dataset\n",
    "    print(\"Explicit dataset statistics: \")\n",
    "    print(f\"> No. of users: {len(dataset['UserID'].unique())}\")\n",
    "    print(f\"> No. of Books: {len(dataset['ItemID'].unique())}\")\n",
    "    print(f\"> No. of Interaction: {dataset.shape[0]}\")"
   ]
  },
  {
   "cell_type": "markdown",
   "metadata": {},
   "source": [
    "### Remove user with more than TopRate interactions"
   ]
  },
  {
   "cell_type": "code",
   "execution_count": 10,
   "metadata": {},
   "outputs": [
    {
     "name": "stdout",
     "output_type": "stream",
     "text": [
      "The numebr of users with more than 200 interactions: 144\n"
     ]
    }
   ],
   "source": [
    "# To check if there is any user with more than toprate interaction in the preprocessed dataset\n",
    "# The correct output will be zero\n",
    "uid_value_counts = dataset['UserID'].value_counts()\n",
    "print(f\"The numebr of users with more than {config[data_config]['ds_toprate']} interactions: {uid_value_counts[uid_value_counts > config[data_config]['ds_toprate']].count()}\")"
   ]
  },
  {
   "cell_type": "code",
   "execution_count": 11,
   "metadata": {},
   "outputs": [],
   "source": [
    "# To remove the users with fewer than 5 interaction we first count the number of interactino per user and add a new column (`Count`) in the dataframe.\n",
    "# This column shows the number of interaction per user in the dataset\n",
    "users_counts = dataset['UserID'].value_counts()\n",
    "users_counts = users_counts.to_dict() #converts to dictionary\n",
    "dataset['Count'] = dataset['UserID'].map(users_counts)"
   ]
  },
  {
   "cell_type": "code",
   "execution_count": 12,
   "metadata": {},
   "outputs": [],
   "source": [
    "# remove between toprate to max value\n",
    "# dataset = filter_rows_by_values(dataset, \"Count\", list(range(config[data_config]['ds_toprate'], max(dataset['Count']) + 1)))"
   ]
  },
  {
   "cell_type": "code",
   "execution_count": 13,
   "metadata": {},
   "outputs": [
    {
     "name": "stdout",
     "output_type": "stream",
     "text": [
      "New dataset statistics (users with interactions < 200): \n",
      "> No. of users: 7135\n",
      "> No. of POIs: 16621\n",
      "> No. of Interaction: 285608\n"
     ]
    }
   ],
   "source": [
    "# statistics on explicit dataset after removing users with more than 200 int.\n",
    "print(f\"New dataset statistics (users with interactions < {config[data_config]['ds_toprate']}): \")\n",
    "print(f\"> No. of users: {len(dataset['UserID'].unique())}\")\n",
    "print(f\"> No. of POIs: {len(dataset['ItemID'].unique())}\")\n",
    "print(f\"> No. of Interaction: {dataset.shape[0]}\")"
   ]
  },
  {
   "cell_type": "markdown",
   "metadata": {},
   "source": [
    "### Iteratively remove users and items with fewer than `ds_rate` interactions"
   ]
  },
  {
   "cell_type": "code",
   "execution_count": 14,
   "metadata": {},
   "outputs": [
    {
     "data": {
      "text/plain": [
       "[0, 1, 2, 3, 4, 5, 6, 7, 8, 9]"
      ]
     },
     "execution_count": 14,
     "metadata": {},
     "output_type": "execute_result"
    }
   ],
   "source": [
    "list(range(config[data_config]['ds_rate']))"
   ]
  },
  {
   "cell_type": "code",
   "execution_count": 15,
   "metadata": {},
   "outputs": [
    {
     "name": "stdout",
     "output_type": "stream",
     "text": [
      "The current number of user and item with < 10 interactions: \n",
      "No. of users < 10 ineractions: 0\n",
      "No. of items < 10 ineractions: 8224\n",
      "The current number of user and item with < 10 interactions: \n",
      "No. of users < 10 ineractions: 462\n",
      "No. of items < 10 ineractions: 124\n",
      "The current number of user and item with < 10 interactions: \n",
      "No. of users < 10 ineractions: 22\n",
      "No. of items < 10 ineractions: 6\n",
      "The current number of user and item with < 10 interactions: \n",
      "No. of users < 10 ineractions: 0\n",
      "No. of items < 10 ineractions: 0\n"
     ]
    }
   ],
   "source": [
    "user_interaction, item_interaction = 1, 1\n",
    "\n",
    "while user_interaction != 0 or item_interaction != 0:\n",
    "    print(f\"The current number of user and item with < {config[data_config]['ds_rate']} interactions: \")\n",
    "    # user side fewer than ds_rate cheking\n",
    "    uid_value_counts = dataset['UserID'].value_counts()\n",
    "    user_interaction = uid_value_counts[uid_value_counts < config[data_config]['ds_rate']].count()\n",
    "    print(f\"No. of users < {config[data_config]['ds_rate']} ineractions: {user_interaction}\")\n",
    "\n",
    "    users_counts = dataset['UserID'].value_counts()\n",
    "    users_counts = users_counts.to_dict() #converts to dictionary\n",
    "    dataset['Count'] = dataset['UserID'].map(users_counts)\n",
    "\n",
    "    dataset = filter_rows_by_values(dataset, \"Count\", list(range(config[data_config]['ds_rate'])))\n",
    "\n",
    "    # item side fewer than ds_rate cheking\n",
    "    bid_value_counts = dataset['ItemID'].value_counts()\n",
    "    item_interaction = bid_value_counts[bid_value_counts < config[data_config]['ds_rate']].count()\n",
    "    print(f\"No. of items < {config[data_config]['ds_rate']} ineractions: {item_interaction}\")\n",
    "\n",
    "    items_counts = dataset['ItemID'].value_counts()\n",
    "    items_counts = items_counts.to_dict() #converts to dictionary\n",
    "    dataset['Count'] = dataset['ItemID'].map(items_counts)\n",
    "\n",
    "    dataset = filter_rows_by_values(dataset, \"Count\", list(range(config[data_config]['ds_rate'])))"
   ]
  },
  {
   "cell_type": "code",
   "execution_count": 16,
   "metadata": {},
   "outputs": [
    {
     "name": "stdout",
     "output_type": "stream",
     "text": [
      "No. of Users: 6651\n",
      "No. of Items: 8267\n",
      "No. of Interaction: 246174\n"
     ]
    }
   ],
   "source": [
    "# statistics on 5 rate explicit dataset (after pre-processing)\n",
    "print(f\"No. of Users: {len(dataset['UserID'].unique())}\")\n",
    "print(f\"No. of Items: {len(dataset['ItemID'].unique())}\")\n",
    "print(f\"No. of Interaction: {dataset.shape[0]}\")"
   ]
  },
  {
   "cell_type": "code",
   "execution_count": 17,
   "metadata": {},
   "outputs": [],
   "source": [
    "# Before we save the preprocessed explicit dataset (5Rate) we first remove the added column which is `Count`\n",
    "del dataset['Count']"
   ]
  },
  {
   "cell_type": "markdown",
   "metadata": {},
   "source": [
    "### User and Item ID Mapping"
   ]
  },
  {
   "cell_type": "code",
   "execution_count": 18,
   "metadata": {},
   "outputs": [
    {
     "name": "stderr",
     "output_type": "stream",
     "text": [
      "246174it [00:26, 9452.24it/s]\n"
     ]
    }
   ],
   "source": [
    "uid_to_index = dict()\n",
    "iid_to_index = dict()\n",
    "\n",
    "last_user_id = 0\n",
    "last_item_id = 0\n",
    "\n",
    "for eachline in tqdm(dataset.iterrows()):\n",
    "  # add a new user id with an index\n",
    "  if eachline[1][0] not in uid_to_index.keys():\n",
    "    uid_to_index[eachline[1][0]] = last_user_id\n",
    "    last_user_id += 1\n",
    "  # add a new book id with an index\n",
    "  if eachline[1][1] not in iid_to_index.keys():\n",
    "    iid_to_index[eachline[1][1]] = last_item_id\n",
    "    last_item_id += 1"
   ]
  },
  {
   "cell_type": "code",
   "execution_count": 19,
   "metadata": {},
   "outputs": [
    {
     "data": {
      "text/plain": [
       "8267"
      ]
     },
     "execution_count": 19,
     "metadata": {},
     "output_type": "execute_result"
    }
   ],
   "source": [
    "len(iid_to_index)"
   ]
  },
  {
   "cell_type": "code",
   "execution_count": 20,
   "metadata": {},
   "outputs": [
    {
     "name": "stderr",
     "output_type": "stream",
     "text": [
      "246174it [00:31, 7754.57it/s]\n"
     ]
    }
   ],
   "source": [
    "# write the file with new mapped indices into a txt file\n",
    "# mapped_dataset = open(f\"dataset/{data_config}/{config[data_config]['ds_acronym']}-Book-Explicit-{config[data_config]['ds_rate']}Rate-Map.csv\", 'w')\n",
    "mapped_dataset = open(f\"datasets/{data_config}/{data_config}_data.txt\", 'w')\n",
    "\n",
    "for eachline in tqdm(dataset.iterrows()):\n",
    "    mapped_dataset.write(str(uid_to_index[eachline[1][0]]) + \",\" + str(iid_to_index[eachline[1][1]]) + \",\" + str(eachline[1][2]) + \"\\n\")\n",
    "mapped_dataset.close()"
   ]
  },
  {
   "cell_type": "code",
   "execution_count": 21,
   "metadata": {},
   "outputs": [],
   "source": [
    "categories = pd.read_csv(f\"datasets/{data_config}/raw/{data_config}_cat_map.{config[data_config]['ds_fmt']}\", sep=f\"{config[data_config]['ds_sep']}\", names=['ItemID', 'Categories'])"
   ]
  },
  {
   "cell_type": "code",
   "execution_count": 22,
   "metadata": {},
   "outputs": [
    {
     "data": {
      "text/plain": [
       "16610"
      ]
     },
     "execution_count": 22,
     "metadata": {},
     "output_type": "execute_result"
    }
   ],
   "source": [
    "len(categories.ItemID.unique())"
   ]
  },
  {
   "cell_type": "code",
   "execution_count": 23,
   "metadata": {},
   "outputs": [
    {
     "data": {
      "text/html": [
       "<div>\n",
       "<style scoped>\n",
       "    .dataframe tbody tr th:only-of-type {\n",
       "        vertical-align: middle;\n",
       "    }\n",
       "\n",
       "    .dataframe tbody tr th {\n",
       "        vertical-align: top;\n",
       "    }\n",
       "\n",
       "    .dataframe thead th {\n",
       "        text-align: right;\n",
       "    }\n",
       "</style>\n",
       "<table border=\"1\" class=\"dataframe\">\n",
       "  <thead>\n",
       "    <tr style=\"text-align: right;\">\n",
       "      <th></th>\n",
       "      <th>ItemID</th>\n",
       "      <th>Categories</th>\n",
       "    </tr>\n",
       "  </thead>\n",
       "  <tbody>\n",
       "    <tr>\n",
       "      <th>0</th>\n",
       "      <td>17</td>\n",
       "      <td>2|0|1</td>\n",
       "    </tr>\n",
       "    <tr>\n",
       "      <th>1</th>\n",
       "      <td>69</td>\n",
       "      <td>2|3</td>\n",
       "    </tr>\n",
       "    <tr>\n",
       "      <th>2</th>\n",
       "      <td>779</td>\n",
       "      <td>5|4</td>\n",
       "    </tr>\n",
       "    <tr>\n",
       "      <th>3</th>\n",
       "      <td>76</td>\n",
       "      <td>2|7|6</td>\n",
       "    </tr>\n",
       "    <tr>\n",
       "      <th>4</th>\n",
       "      <td>679</td>\n",
       "      <td>8|9</td>\n",
       "    </tr>\n",
       "  </tbody>\n",
       "</table>\n",
       "</div>"
      ],
      "text/plain": [
       "   ItemID Categories\n",
       "0      17      2|0|1\n",
       "1      69        2|3\n",
       "2     779        5|4\n",
       "3      76      2|7|6\n",
       "4     679        8|9"
      ]
     },
     "execution_count": 23,
     "metadata": {},
     "output_type": "execute_result"
    }
   ],
   "source": [
    "categories.head()"
   ]
  },
  {
   "cell_type": "code",
   "execution_count": 24,
   "metadata": {},
   "outputs": [
    {
     "name": "stderr",
     "output_type": "stream",
     "text": [
      "16610it [00:00, 255534.49it/s]\n"
     ]
    }
   ],
   "source": [
    "mapped_genre = open(f\"datasets/{data_config}/{data_config}_cat.txt\", 'w')\n",
    "\n",
    "for eachline in tqdm(categories.itertuples(index=True)):\n",
    "    if eachline.ItemID in iid_to_index.keys():\n",
    "        mapped_genre.write(str(iid_to_index[eachline.ItemID]) + \",\" + str(eachline.Categories) + \"\\n\")\n",
    "mapped_genre.close()"
   ]
  },
  {
   "cell_type": "code",
   "execution_count": 25,
   "metadata": {},
   "outputs": [
    {
     "name": "stderr",
     "output_type": "stream",
     "text": [
      "16610it [00:00, 183672.13it/s]\n"
     ]
    }
   ],
   "source": [
    "test = set()\n",
    "for eachline in tqdm(categories.itertuples(index=True)):\n",
    "    if eachline.ItemID in iid_to_index.keys():\n",
    "        test.add(eachline.ItemID)"
   ]
  },
  {
   "cell_type": "code",
   "execution_count": 26,
   "metadata": {},
   "outputs": [
    {
     "data": {
      "text/plain": [
       "8266"
      ]
     },
     "execution_count": 26,
     "metadata": {},
     "output_type": "execute_result"
    }
   ],
   "source": [
    "len(test)"
   ]
  },
  {
   "cell_type": "code",
   "execution_count": 27,
   "metadata": {},
   "outputs": [
    {
     "data": {
      "text/plain": [
       "{9971}"
      ]
     },
     "execution_count": 27,
     "metadata": {},
     "output_type": "execute_result"
    }
   ],
   "source": [
    "set(iid_to_index.keys())-test"
   ]
  },
  {
   "cell_type": "code",
   "execution_count": 28,
   "metadata": {},
   "outputs": [
    {
     "data": {
      "text/plain": [
       "6193"
      ]
     },
     "execution_count": 28,
     "metadata": {},
     "output_type": "execute_result"
    }
   ],
   "source": [
    "iid_to_index[9971]"
   ]
  },
  {
   "cell_type": "code",
   "execution_count": null,
   "metadata": {},
   "outputs": [],
   "source": []
  }
 ],
 "metadata": {
  "interpreter": {
   "hash": "0adcc2737ebf6a4a119f135174df96668767fca1ef1112612db5ecadf2b6d608"
  },
  "kernelspec": {
   "display_name": "Python 3.8.0 64-bit",
   "language": "python",
   "name": "python3"
  },
  "language_info": {
   "codemirror_mode": {
    "name": "ipython",
    "version": 3
   },
   "file_extension": ".py",
   "mimetype": "text/x-python",
   "name": "python",
   "nbconvert_exporter": "python",
   "pygments_lexer": "ipython3",
   "version": "3.8.0"
  },
  "orig_nbformat": 4
 },
 "nbformat": 4,
 "nbformat_minor": 2
}
