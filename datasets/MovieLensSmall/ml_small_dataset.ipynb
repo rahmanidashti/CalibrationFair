{
 "cells": [
  {
   "cell_type": "code",
   "execution_count": null,
   "metadata": {},
   "outputs": [],
   "source": [
    "import pandas as pd"
   ]
  },
  {
   "cell_type": "code",
   "execution_count": null,
   "metadata": {},
   "outputs": [],
   "source": [
    "ratings_data = pd.read_csv(\"raw/ml-latest-small/ratings.csv\")\n",
    "# category: Movie Geners\n",
    "movies_data = pd.read_csv(\"raw/ml-latest-small/movies.csv\")"
   ]
  },
  {
   "cell_type": "code",
   "execution_count": null,
   "metadata": {},
   "outputs": [],
   "source": [
    "ratings_data.head()"
   ]
  },
  {
   "cell_type": "code",
   "execution_count": null,
   "metadata": {},
   "outputs": [],
   "source": [
    "movies_data.head()"
   ]
  },
  {
   "cell_type": "code",
   "execution_count": null,
   "metadata": {},
   "outputs": [],
   "source": [
    "# convert user and item ids to user and item index (from 0 to n: the number of users/items)\n",
    "\n",
    "uid_to_uidx = dict()\n",
    "iid_to_iidx = dict()\n",
    "\n",
    "# user and item index counter\n",
    "uidx_cnt = 0\n",
    "iidx_cnt = 0\n",
    "\n",
    "for eachsample in ratings_data.itertuples(index=True):\n",
    "    # users index\n",
    "    if eachsample.userId not in uid_to_uidx.keys():\n",
    "        uid_to_uidx[eachsample.userId] = uidx_cnt\n",
    "        uidx_cnt += 1\n",
    "\n",
    "    # items index\n",
    "    if eachsample.movieId not in iid_to_iidx.keys():\n",
    "        iid_to_iidx[eachsample.movieId] = iidx_cnt\n",
    "        iidx_cnt += 1"
   ]
  },
  {
   "cell_type": "code",
   "execution_count": null,
   "metadata": {},
   "outputs": [],
   "source": [
    "# to write the rating data using new indices\n",
    "\n",
    "dataset_data = open(\"MovieLensSmall_data.txt\", 'w')\n",
    "\n",
    "for eachsample in ratings_data.itertuples(index=True):\n",
    "    dataset_data.write(f\"{str(uid_to_uidx[eachsample.userId])},{str(iid_to_iidx[eachsample.movieId])},{str(eachsample.rating)}\\n\")\n",
    "\n",
    "dataset_data.close()"
   ]
  },
  {
   "cell_type": "code",
   "execution_count": null,
   "metadata": {},
   "outputs": [],
   "source": [
    "# to write the movie data using new indices\n",
    "\n",
    "genre_data = open(\"MovieLensSmall_genre.txt\", 'w')\n",
    "\n",
    "for eachsample in movies_data.itertuples(index=True):\n",
    "    if eachsample.movieId in iid_to_iidx.keys():\n",
    "        genre_data.write(f\"{str(iid_to_iidx[eachsample.movieId])},{str(eachsample.genres)}\\n\")\n",
    "\n",
    "genre_data.close()"
   ]
  },
  {
   "cell_type": "code",
   "execution_count": null,
   "metadata": {},
   "outputs": [],
   "source": [
    "len(iid_to_iidx.keys())"
   ]
  },
  {
   "cell_type": "code",
   "execution_count": null,
   "metadata": {},
   "outputs": [],
   "source": []
  }
 ],
 "metadata": {
  "interpreter": {
   "hash": "0adcc2737ebf6a4a119f135174df96668767fca1ef1112612db5ecadf2b6d608"
  },
  "kernelspec": {
   "display_name": "Python 3.8.0 64-bit",
   "language": "python",
   "name": "python3"
  },
  "language_info": {
   "codemirror_mode": {
    "name": "ipython",
    "version": 3
   },
   "file_extension": ".py",
   "mimetype": "text/x-python",
   "name": "python",
   "nbconvert_exporter": "python",
   "pygments_lexer": "ipython3",
   "version": "3.8.0"
  },
  "orig_nbformat": 4
 },
 "nbformat": 4,
 "nbformat_minor": 2
}
