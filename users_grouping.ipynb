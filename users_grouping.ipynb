{
 "cells": [
  {
   "cell_type": "markdown",
   "metadata": {},
   "source": [
    "# User Grouping Methods"
   ]
  },
  {
   "cell_type": "code",
   "execution_count": 1,
   "metadata": {},
   "outputs": [],
   "source": [
    "# import required packages\n",
    "import pandas as pd\n",
    "from collections import defaultdict\n",
    "from tqdm import tqdm"
   ]
  },
  {
   "cell_type": "markdown",
   "metadata": {},
   "source": [
    "## 1. Setup"
   ]
  },
  {
   "cell_type": "code",
   "execution_count": 2,
   "metadata": {},
   "outputs": [],
   "source": [
    "# config\n",
    "ds_name = 'MovieLensSmall'\n",
    "is_implicit = False\n",
    "item_top_fraction = 0.2\n",
    "user_top_fraction = 0.2 # 0.05 or 0.2\n",
    "user_bottom_fraction = 0.2 # 0.05 or 0.2\n",
    "'''\n",
    "To indicate the user grouping method which can be based on (1) interactions or (2) popular item consumption. For interactions, we select top 5% users\n",
    "(user_top_fraction = 0.05) as advantaged while for popular consumption we consdier top 20% users (user_top_fraction = 0.2) as advanteged users.\n",
    "'''\n",
    "user_grouping_method = 'interactions'  # this can be either interactions or popular_consumption"
   ]
  },
  {
   "cell_type": "code",
   "execution_count": 3,
   "metadata": {},
   "outputs": [
    {
     "name": "stdout",
     "output_type": "stream",
     "text": [
      "The precentages are coorect!\n"
     ]
    }
   ],
   "source": [
    "if user_top_fraction + user_bottom_fraction < 1:\n",
    "    print(\"The precentages are coorect!\")"
   ]
  },
  {
   "cell_type": "markdown",
   "metadata": {},
   "source": [
    "## 2. Load Train Data"
   ]
  },
  {
   "cell_type": "code",
   "execution_count": 4,
   "metadata": {},
   "outputs": [],
   "source": [
    "# loading ds_name dataset\n",
    "dataset = pd.read_csv(f\"datasets/{ds_name}/{ds_name}_train.txt\", sep=\"\\t\", names=['uid', 'iid', 'count'])"
   ]
  },
  {
   "cell_type": "code",
   "execution_count": 5,
   "metadata": {},
   "outputs": [
    {
     "data": {
      "text/html": [
       "<div>\n",
       "<style scoped>\n",
       "    .dataframe tbody tr th:only-of-type {\n",
       "        vertical-align: middle;\n",
       "    }\n",
       "\n",
       "    .dataframe tbody tr th {\n",
       "        vertical-align: top;\n",
       "    }\n",
       "\n",
       "    .dataframe thead th {\n",
       "        text-align: right;\n",
       "    }\n",
       "</style>\n",
       "<table border=\"1\" class=\"dataframe\">\n",
       "  <thead>\n",
       "    <tr style=\"text-align: right;\">\n",
       "      <th></th>\n",
       "      <th>uid</th>\n",
       "      <th>iid</th>\n",
       "      <th>count</th>\n",
       "    </tr>\n",
       "  </thead>\n",
       "  <tbody>\n",
       "    <tr>\n",
       "      <th>0</th>\n",
       "      <td>0</td>\n",
       "      <td>0</td>\n",
       "      <td>5</td>\n",
       "    </tr>\n",
       "    <tr>\n",
       "      <th>1</th>\n",
       "      <td>0</td>\n",
       "      <td>5</td>\n",
       "      <td>5</td>\n",
       "    </tr>\n",
       "    <tr>\n",
       "      <th>2</th>\n",
       "      <td>0</td>\n",
       "      <td>7</td>\n",
       "      <td>3</td>\n",
       "    </tr>\n",
       "    <tr>\n",
       "      <th>3</th>\n",
       "      <td>0</td>\n",
       "      <td>8</td>\n",
       "      <td>4</td>\n",
       "    </tr>\n",
       "    <tr>\n",
       "      <th>4</th>\n",
       "      <td>0</td>\n",
       "      <td>12</td>\n",
       "      <td>4</td>\n",
       "    </tr>\n",
       "  </tbody>\n",
       "</table>\n",
       "</div>"
      ],
      "text/plain": [
       "   uid  iid  count\n",
       "0    0    0      5\n",
       "1    0    5      5\n",
       "2    0    7      3\n",
       "3    0    8      4\n",
       "4    0   12      4"
      ]
     },
     "execution_count": 5,
     "metadata": {},
     "output_type": "execute_result"
    }
   ],
   "source": [
    "dataset.head(5)"
   ]
  },
  {
   "cell_type": "markdown",
   "metadata": {},
   "source": [
    "### Charactristics"
   ]
  },
  {
   "cell_type": "code",
   "execution_count": 6,
   "metadata": {},
   "outputs": [
    {
     "name": "stdout",
     "output_type": "stream",
     "text": [
      "No. users: 610\n",
      "Mean items per user: 132.24262295081968\n",
      "Min items per user: 13\n",
      "Max items per user: 2160\n"
     ]
    }
   ],
   "source": [
    "# get user distribution\n",
    "user_dist = dataset['uid'].value_counts()\n",
    "num_users = len(user_dist)\n",
    "print('No. users: ' + str(num_users))\n",
    "print('Mean items per user: ' + str(user_dist.mean()))\n",
    "print('Min items per user: ' + str(user_dist.min()))\n",
    "print('Max items per user: ' + str(user_dist.max()))"
   ]
  },
  {
   "cell_type": "markdown",
   "metadata": {},
   "source": [
    "## 3. Read User and Item Profile\n",
    "Read user and item interactions profile"
   ]
  },
  {
   "cell_type": "code",
   "execution_count": 7,
   "metadata": {},
   "outputs": [],
   "source": [
    "# A dictionary to store users and the items in their profiles \n",
    "user_interactions = defaultdict(list)"
   ]
  },
  {
   "cell_type": "code",
   "execution_count": 8,
   "metadata": {},
   "outputs": [],
   "source": [
    "# To read the popularit of itmes from a implicit feedback type datasets\n",
    "def read_implicit_item_popularity():\n",
    "    print(\"Reading implicit item popularity ...\")\n",
    "    items_freq = dict()\n",
    "    global user_interactions\n",
    "    for eachline in tqdm(dataset.itertuples(index=True)):\n",
    "        # iid, count = int(eachline.iid), int(eachline.count)\n",
    "        uid, iid, count = int(eachline.uid), int(eachline.iid), int(eachline.count)\n",
    "        uid, iid, count = int(uid), int(iid), int(count)\n",
    "        # Adding users and their corresponding items\n",
    "        # We need to loop on the user interaction frequency with item in implicit feedback\n",
    "        for i in range(count):\n",
    "            if uid in user_interactions.keys():\n",
    "                user_interactions[uid].append(iid)\n",
    "            else:\n",
    "                user_interactions[uid] = [iid]\n",
    "        # Adding the interaction frequency (implicit) of items\n",
    "        if iid in items_freq.keys():\n",
    "            items_freq[iid] += count\n",
    "        else:\n",
    "            items_freq[iid] = count\n",
    "    return items_freq"
   ]
  },
  {
   "cell_type": "code",
   "execution_count": 9,
   "metadata": {},
   "outputs": [],
   "source": [
    "# To read the popularit of itmes from a explicit feedback type datasets\n",
    "def read_explicit_item_popularity():\n",
    "    print(\"Reading explicit item popularity ...\")\n",
    "    items_freq = dict()\n",
    "    global user_interactions\n",
    "    for eachline in tqdm(dataset.itertuples(index=True)):\n",
    "        uid, iid, count = int(eachline.uid), int(eachline.iid), int(eachline.count)\n",
    "        uid, iid, count = int(uid), int(iid), int(count)\n",
    "        # Adding users and their corresponding items\n",
    "        if uid in user_interactions.keys():\n",
    "            user_interactions[uid].append(iid)\n",
    "        else:\n",
    "            user_interactions[uid] = [iid]\n",
    "        # Adding the interaction of items\n",
    "        if iid in items_freq.keys():\n",
    "            items_freq[iid] += 1\n",
    "        else:\n",
    "            items_freq[iid] = 1\n",
    "    return items_freq"
   ]
  },
  {
   "cell_type": "code",
   "execution_count": 10,
   "metadata": {},
   "outputs": [
    {
     "name": "stderr",
     "output_type": "stream",
     "text": [
      "29578it [00:00, 295769.00it/s]"
     ]
    },
    {
     "name": "stdout",
     "output_type": "stream",
     "text": [
      "Reading explicit item popularity ...\n"
     ]
    },
    {
     "name": "stderr",
     "output_type": "stream",
     "text": [
      "80668it [00:00, 330684.16it/s]"
     ]
    },
    {
     "name": "stdout",
     "output_type": "stream",
     "text": [
      "No. items: 8974\n"
     ]
    },
    {
     "name": "stderr",
     "output_type": "stream",
     "text": [
      "\n"
     ]
    }
   ],
   "source": [
    "if is_implicit:\n",
    "    # if feedback type is implicit\n",
    "    item_freq = read_implicit_item_popularity()\n",
    "elif not is_implicit:\n",
    "    # if feedback type is explicit\n",
    "    item_freq = read_explicit_item_popularity()\n",
    "num_items = len(item_freq)\n",
    "print('No. items: ' + str(num_items))"
   ]
  },
  {
   "cell_type": "markdown",
   "metadata": {},
   "source": [
    "## 4. Item Grouping"
   ]
  },
  {
   "cell_type": "code",
   "execution_count": 11,
   "metadata": {},
   "outputs": [
    {
     "name": "stdout",
     "output_type": "stream",
     "text": [
      "No. top items: 1794\n"
     ]
    }
   ],
   "source": [
    "# get top items\n",
    "num_top = int(item_top_fraction * num_items)\n",
    "# sort items according to the no. of recevied interactions from users\n",
    "sorted_item_freq = {k: v for k, v in sorted(item_freq.items(), key=lambda item: item[1], reverse=True)}\n",
    "short_heads = list(sorted_item_freq.keys())[:num_top] # top popular items based on the item_top_fractin\n",
    "long_tails = list(sorted_item_freq.keys())[num_top:] # log-tail items\n",
    "print('No. top items: ' + str(num_top))"
   ]
  },
  {
   "cell_type": "code",
   "execution_count": 12,
   "metadata": {},
   "outputs": [],
   "source": [
    "# Files to save item ids based on the popularity of items (no. of interactions)\n",
    "# shorthead_items = open(f'datasets/{ds_name}/groups/items/020/shorthead_items.txt', 'w')\n",
    "# longtail_items = open(f'datasets/{ds_name}/groups/items/020/longtail_items.txt', 'w')\n",
    "\n",
    "# for iid in short_heads:\n",
    "#     shorthead_items.write(str(iid) + '\\n')\n",
    "# shorthead_items.close()\n",
    "\n",
    "# for iid in long_tails:\n",
    "#     longtail_items.write(str(iid) + '\\n')\n",
    "# longtail_items.close()"
   ]
  },
  {
   "cell_type": "markdown",
   "metadata": {},
   "source": [
    "## 5. User Grouping"
   ]
  },
  {
   "cell_type": "code",
   "execution_count": 13,
   "metadata": {},
   "outputs": [],
   "source": [
    "user_profile_pop_df = pd.DataFrame(columns=['uid', 'pop_count', 'profile_size'])"
   ]
  },
  {
   "cell_type": "code",
   "execution_count": 14,
   "metadata": {},
   "outputs": [
    {
     "name": "stderr",
     "output_type": "stream",
     "text": [
      "100%|██████████| 610/610 [00:01<00:00, 445.49it/s]\n"
     ]
    }
   ],
   "source": [
    "user_profile_pop = {}\n",
    "\n",
    "for user, items in tqdm(user_interactions.items()):\n",
    "    if user not in user_profile_pop.keys():\n",
    "        pop_count = len(set(items) & set(short_heads))\n",
    "        user_profile_pop[user] = len(set(items) & set(short_heads))\n",
    "        user_profile_pop_df = user_profile_pop_df.append({'uid': user, 'pop_count': pop_count, 'profile_size': len(user_interactions[user])}, ignore_index=True)"
   ]
  },
  {
   "cell_type": "code",
   "execution_count": 15,
   "metadata": {},
   "outputs": [
    {
     "data": {
      "text/html": [
       "<div>\n",
       "<style scoped>\n",
       "    .dataframe tbody tr th:only-of-type {\n",
       "        vertical-align: middle;\n",
       "    }\n",
       "\n",
       "    .dataframe tbody tr th {\n",
       "        vertical-align: top;\n",
       "    }\n",
       "\n",
       "    .dataframe thead th {\n",
       "        text-align: right;\n",
       "    }\n",
       "</style>\n",
       "<table border=\"1\" class=\"dataframe\">\n",
       "  <thead>\n",
       "    <tr style=\"text-align: right;\">\n",
       "      <th></th>\n",
       "      <th>uid</th>\n",
       "      <th>pop_count</th>\n",
       "      <th>profile_size</th>\n",
       "    </tr>\n",
       "  </thead>\n",
       "  <tbody>\n",
       "    <tr>\n",
       "      <th>0</th>\n",
       "      <td>0</td>\n",
       "      <td>370</td>\n",
       "      <td>588</td>\n",
       "    </tr>\n",
       "    <tr>\n",
       "      <th>1</th>\n",
       "      <td>1</td>\n",
       "      <td>91</td>\n",
       "      <td>96</td>\n",
       "    </tr>\n",
       "    <tr>\n",
       "      <th>2</th>\n",
       "      <td>2</td>\n",
       "      <td>755</td>\n",
       "      <td>1674</td>\n",
       "    </tr>\n",
       "    <tr>\n",
       "      <th>3</th>\n",
       "      <td>3</td>\n",
       "      <td>26</td>\n",
       "      <td>27</td>\n",
       "    </tr>\n",
       "    <tr>\n",
       "      <th>4</th>\n",
       "      <td>4</td>\n",
       "      <td>21</td>\n",
       "      <td>23</td>\n",
       "    </tr>\n",
       "  </tbody>\n",
       "</table>\n",
       "</div>"
      ],
      "text/plain": [
       "  uid pop_count profile_size\n",
       "0   0       370          588\n",
       "1   1        91           96\n",
       "2   2       755         1674\n",
       "3   3        26           27\n",
       "4   4        21           23"
      ]
     },
     "execution_count": 15,
     "metadata": {},
     "output_type": "execute_result"
    }
   ],
   "source": [
    "user_profile_pop_df.head()"
   ]
  },
  {
   "cell_type": "code",
   "execution_count": 16,
   "metadata": {},
   "outputs": [],
   "source": [
    "# hrouping users based on which method? popular_consumption or interactions?\n",
    "if user_grouping_method == \"popular_consumption\":\n",
    "    user_profile_pop_df.sort_values(['pop_count', 'profile_size'], ascending = (False, False), inplace=True)\n",
    "elif user_grouping_method == \"interactions\":\n",
    "    user_profile_pop_df.sort_values(['profile_size'], ascending = (False), inplace=True)"
   ]
  },
  {
   "cell_type": "code",
   "execution_count": 17,
   "metadata": {},
   "outputs": [
    {
     "name": "stdout",
     "output_type": "stream",
     "text": [
      "No. of users: 610, no. of top users 122, and no. of bottom users 122.\n"
     ]
    }
   ],
   "source": [
    "num_user = user_profile_pop_df.shape[0]\n",
    "num_top_users = int(user_top_fraction * num_users) # no. of top users based on user_top_fraction\n",
    "num_bottom_users = int(user_bottom_fraction * num_users) # no. of top users based on user_top_fraction\n",
    "print(f\"No. of users: {num_user}, no. of top users {num_top_users}, and no. of bottom users {num_bottom_users}.\")"
   ]
  },
  {
   "cell_type": "code",
   "execution_count": 18,
   "metadata": {},
   "outputs": [],
   "source": [
    "top_users = user_profile_pop_df.head(num_top_users) # get top users\n",
    "middle_users = user_profile_pop_df.iloc[num_top_users:user_profile_pop_df.shape[0]-num_bottom_users] # get middle users\n",
    "bottom_users = user_profile_pop_df.tail(num_bottom_users) # get bottom users"
   ]
  },
  {
   "cell_type": "code",
   "execution_count": 20,
   "metadata": {},
   "outputs": [
    {
     "name": "stdout",
     "output_type": "stream",
     "text": [
      "No. of TOP users: 122 - Sum of TOP users profile size: 52763\n",
      "No. of MIDDLE users: 366 - Sum of MIDDLE users profile size: 25517\n",
      "No. of BOTTOM users: 122 - Sum of BOTTOM users profile size: 2388\n"
     ]
    }
   ],
   "source": [
    "len_top_profile = 0\n",
    "len_middle_profile = 0\n",
    "len_bottom_profile = 0\n",
    "\n",
    "for uid in top_users.iterrows():\n",
    "    len_top_profile += len(user_interactions[int(uid[1][0])])\n",
    "\n",
    "for uid in middle_users.iterrows():\n",
    "    len_middle_profile += len(user_interactions[int(uid[1][0])])\n",
    "\n",
    "for uid in bottom_users.iterrows():\n",
    "    len_bottom_profile += len(user_interactions[int(uid[1][0])])\n",
    "\n",
    "print(f\"No. of TOP users: {top_users.shape[0]} - Sum of TOP users profile size: {len_top_profile}\")\n",
    "print(f\"No. of MIDDLE users: {middle_users.shape[0]} - Sum of MIDDLE users profile size: {len_middle_profile}\")\n",
    "print(f\"No. of BOTTOM users: {bottom_users.shape[0]} - Sum of BOTTOM users profile size: {len_bottom_profile}\")"
   ]
  },
  {
   "cell_type": "code",
   "execution_count": 21,
   "metadata": {},
   "outputs": [],
   "source": [
    "# Files to save users ids based on the number of checkins\n",
    "# active_users == advantaged_users, inactive_users == disadvantaged_users\n",
    "top_users_file = open(f'datasets/{ds_name}/user-groups/2/popular_users.txt', 'w')\n",
    "middle_users_file = open(f'datasets/{ds_name}/user-groups/2/diverse_users.txt', 'w')\n",
    "bottom_users_file = open(f'datasets/{ds_name}/user-groups/2/unpopular_users.txt', 'w')"
   ]
  },
  {
   "cell_type": "code",
   "execution_count": 22,
   "metadata": {},
   "outputs": [],
   "source": [
    "for eachline in top_users.itertuples(index=True):\n",
    "    top_users_file.write(str(eachline.uid) + '\\n')\n",
    "top_users_file.close()"
   ]
  },
  {
   "cell_type": "code",
   "execution_count": 23,
   "metadata": {},
   "outputs": [],
   "source": [
    "for eachline in middle_users.itertuples(index=True):\n",
    "    middle_users_file.write(str(eachline.uid) + '\\n')\n",
    "middle_users_file.close()"
   ]
  },
  {
   "cell_type": "code",
   "execution_count": 24,
   "metadata": {},
   "outputs": [],
   "source": [
    "for eachline in bottom_users.itertuples(index=True):\n",
    "    bottom_users_file.write(str(eachline.uid) + '\\n')\n",
    "bottom_users_file.close()"
   ]
  },
  {
   "cell_type": "code",
   "execution_count": null,
   "metadata": {},
   "outputs": [],
   "source": []
  }
 ],
 "metadata": {
  "interpreter": {
   "hash": "0adcc2737ebf6a4a119f135174df96668767fca1ef1112612db5ecadf2b6d608"
  },
  "kernelspec": {
   "display_name": "Python 3.8.0 64-bit",
   "language": "python",
   "name": "python3"
  },
  "language_info": {
   "codemirror_mode": {
    "name": "ipython",
    "version": 3
   },
   "file_extension": ".py",
   "mimetype": "text/x-python",
   "name": "python",
   "nbconvert_exporter": "python",
   "pygments_lexer": "ipython3",
   "version": "3.8.0"
  },
  "orig_nbformat": 4
 },
 "nbformat": 4,
 "nbformat_minor": 2
}
